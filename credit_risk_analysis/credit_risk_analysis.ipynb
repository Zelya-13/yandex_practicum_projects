{
 "cells": [
  {
   "cell_type": "markdown",
   "id": "6ec88878",
   "metadata": {
    "id": "c81daeeb"
   },
   "source": [
    "# Исследование надежности заемщиков\n"
   ]
  },
  {
   "cell_type": "markdown",
   "id": "da35f5b9",
   "metadata": {
    "id": "827c20bf"
   },
   "source": [
    "**Описание проекта**\n",
    "\n",
    "Заказчик — кредитный отдел банка. Нужно разобраться, влияет ли семейное положение и количество детей клиента на факт погашения кредита в срок. Входные данные от банка — статистика о платёжеспособности клиентов.\n",
    "\n",
    "Результаты исследования будут учтены при построении модели кредитного скоринга — специальной системы, которая оценивает способность потенциального заёмщика вернуть кредит банку.\n",
    "\n",
    "**Цель проекта**\n",
    "\n",
    "Надо ответить на вопросы:\n",
    "- Есть ли зависимость между количеством детей и возвратом кредита в срок? \n",
    "- Есть ли зависимость между семейным положением и возвратом кредита в срок? \n",
    "- Есть ли зависимость между уровнем дохода и возвратом кредита в срок? \n",
    "- Как разные цели кредита влияют на его возврат в срок?"
   ]
  },
  {
   "cell_type": "markdown",
   "id": "e5a15bc0",
   "metadata": {
    "id": "744d7639"
   },
   "source": [
    "## Обзор данных"
   ]
  },
  {
   "cell_type": "code",
   "execution_count": 1,
   "id": "ae5994f4",
   "metadata": {},
   "outputs": [],
   "source": [
    "import pandas as pd"
   ]
  },
  {
   "cell_type": "code",
   "execution_count": 2,
   "id": "40df059d",
   "metadata": {
    "id": "7bcf75c9"
   },
   "outputs": [],
   "source": [
    "try:\n",
    "    data = pd.read_csv('/datasets/data.csv')\n",
    "except:\n",
    "    data = pd.read_csv('https://code.s3.yandex.net/datasets/data.csv')"
   ]
  },
  {
   "cell_type": "code",
   "execution_count": 3,
   "id": "bdad3968",
   "metadata": {
    "outputId": "1a8f3ef2-d323-4ec2-ddf7-89670b5944c4"
   },
   "outputs": [
    {
     "data": {
      "text/html": [
       "<div>\n",
       "<style scoped>\n",
       "    .dataframe tbody tr th:only-of-type {\n",
       "        vertical-align: middle;\n",
       "    }\n",
       "\n",
       "    .dataframe tbody tr th {\n",
       "        vertical-align: top;\n",
       "    }\n",
       "\n",
       "    .dataframe thead th {\n",
       "        text-align: right;\n",
       "    }\n",
       "</style>\n",
       "<table border=\"1\" class=\"dataframe\">\n",
       "  <thead>\n",
       "    <tr style=\"text-align: right;\">\n",
       "      <th></th>\n",
       "      <th>children</th>\n",
       "      <th>days_employed</th>\n",
       "      <th>dob_years</th>\n",
       "      <th>education</th>\n",
       "      <th>education_id</th>\n",
       "      <th>family_status</th>\n",
       "      <th>family_status_id</th>\n",
       "      <th>gender</th>\n",
       "      <th>income_type</th>\n",
       "      <th>debt</th>\n",
       "      <th>total_income</th>\n",
       "      <th>purpose</th>\n",
       "    </tr>\n",
       "  </thead>\n",
       "  <tbody>\n",
       "    <tr>\n",
       "      <th>0</th>\n",
       "      <td>1</td>\n",
       "      <td>-8437.673028</td>\n",
       "      <td>42</td>\n",
       "      <td>высшее</td>\n",
       "      <td>0</td>\n",
       "      <td>женат / замужем</td>\n",
       "      <td>0</td>\n",
       "      <td>F</td>\n",
       "      <td>сотрудник</td>\n",
       "      <td>0</td>\n",
       "      <td>253875.639453</td>\n",
       "      <td>покупка жилья</td>\n",
       "    </tr>\n",
       "    <tr>\n",
       "      <th>1</th>\n",
       "      <td>1</td>\n",
       "      <td>-4024.803754</td>\n",
       "      <td>36</td>\n",
       "      <td>среднее</td>\n",
       "      <td>1</td>\n",
       "      <td>женат / замужем</td>\n",
       "      <td>0</td>\n",
       "      <td>F</td>\n",
       "      <td>сотрудник</td>\n",
       "      <td>0</td>\n",
       "      <td>112080.014102</td>\n",
       "      <td>приобретение автомобиля</td>\n",
       "    </tr>\n",
       "    <tr>\n",
       "      <th>2</th>\n",
       "      <td>0</td>\n",
       "      <td>-5623.422610</td>\n",
       "      <td>33</td>\n",
       "      <td>Среднее</td>\n",
       "      <td>1</td>\n",
       "      <td>женат / замужем</td>\n",
       "      <td>0</td>\n",
       "      <td>M</td>\n",
       "      <td>сотрудник</td>\n",
       "      <td>0</td>\n",
       "      <td>145885.952297</td>\n",
       "      <td>покупка жилья</td>\n",
       "    </tr>\n",
       "    <tr>\n",
       "      <th>3</th>\n",
       "      <td>3</td>\n",
       "      <td>-4124.747207</td>\n",
       "      <td>32</td>\n",
       "      <td>среднее</td>\n",
       "      <td>1</td>\n",
       "      <td>женат / замужем</td>\n",
       "      <td>0</td>\n",
       "      <td>M</td>\n",
       "      <td>сотрудник</td>\n",
       "      <td>0</td>\n",
       "      <td>267628.550329</td>\n",
       "      <td>дополнительное образование</td>\n",
       "    </tr>\n",
       "    <tr>\n",
       "      <th>4</th>\n",
       "      <td>0</td>\n",
       "      <td>340266.072047</td>\n",
       "      <td>53</td>\n",
       "      <td>среднее</td>\n",
       "      <td>1</td>\n",
       "      <td>гражданский брак</td>\n",
       "      <td>1</td>\n",
       "      <td>F</td>\n",
       "      <td>пенсионер</td>\n",
       "      <td>0</td>\n",
       "      <td>158616.077870</td>\n",
       "      <td>сыграть свадьбу</td>\n",
       "    </tr>\n",
       "    <tr>\n",
       "      <th>5</th>\n",
       "      <td>0</td>\n",
       "      <td>-926.185831</td>\n",
       "      <td>27</td>\n",
       "      <td>высшее</td>\n",
       "      <td>0</td>\n",
       "      <td>гражданский брак</td>\n",
       "      <td>1</td>\n",
       "      <td>M</td>\n",
       "      <td>компаньон</td>\n",
       "      <td>0</td>\n",
       "      <td>255763.565419</td>\n",
       "      <td>покупка жилья</td>\n",
       "    </tr>\n",
       "    <tr>\n",
       "      <th>6</th>\n",
       "      <td>0</td>\n",
       "      <td>-2879.202052</td>\n",
       "      <td>43</td>\n",
       "      <td>высшее</td>\n",
       "      <td>0</td>\n",
       "      <td>женат / замужем</td>\n",
       "      <td>0</td>\n",
       "      <td>F</td>\n",
       "      <td>компаньон</td>\n",
       "      <td>0</td>\n",
       "      <td>240525.971920</td>\n",
       "      <td>операции с жильем</td>\n",
       "    </tr>\n",
       "    <tr>\n",
       "      <th>7</th>\n",
       "      <td>0</td>\n",
       "      <td>-152.779569</td>\n",
       "      <td>50</td>\n",
       "      <td>СРЕДНЕЕ</td>\n",
       "      <td>1</td>\n",
       "      <td>женат / замужем</td>\n",
       "      <td>0</td>\n",
       "      <td>M</td>\n",
       "      <td>сотрудник</td>\n",
       "      <td>0</td>\n",
       "      <td>135823.934197</td>\n",
       "      <td>образование</td>\n",
       "    </tr>\n",
       "    <tr>\n",
       "      <th>8</th>\n",
       "      <td>2</td>\n",
       "      <td>-6929.865299</td>\n",
       "      <td>35</td>\n",
       "      <td>ВЫСШЕЕ</td>\n",
       "      <td>0</td>\n",
       "      <td>гражданский брак</td>\n",
       "      <td>1</td>\n",
       "      <td>F</td>\n",
       "      <td>сотрудник</td>\n",
       "      <td>0</td>\n",
       "      <td>95856.832424</td>\n",
       "      <td>на проведение свадьбы</td>\n",
       "    </tr>\n",
       "    <tr>\n",
       "      <th>9</th>\n",
       "      <td>0</td>\n",
       "      <td>-2188.756445</td>\n",
       "      <td>41</td>\n",
       "      <td>среднее</td>\n",
       "      <td>1</td>\n",
       "      <td>женат / замужем</td>\n",
       "      <td>0</td>\n",
       "      <td>M</td>\n",
       "      <td>сотрудник</td>\n",
       "      <td>0</td>\n",
       "      <td>144425.938277</td>\n",
       "      <td>покупка жилья для семьи</td>\n",
       "    </tr>\n",
       "    <tr>\n",
       "      <th>10</th>\n",
       "      <td>2</td>\n",
       "      <td>-4171.483647</td>\n",
       "      <td>36</td>\n",
       "      <td>высшее</td>\n",
       "      <td>0</td>\n",
       "      <td>женат / замужем</td>\n",
       "      <td>0</td>\n",
       "      <td>M</td>\n",
       "      <td>компаньон</td>\n",
       "      <td>0</td>\n",
       "      <td>113943.491460</td>\n",
       "      <td>покупка недвижимости</td>\n",
       "    </tr>\n",
       "    <tr>\n",
       "      <th>11</th>\n",
       "      <td>0</td>\n",
       "      <td>-792.701887</td>\n",
       "      <td>40</td>\n",
       "      <td>среднее</td>\n",
       "      <td>1</td>\n",
       "      <td>женат / замужем</td>\n",
       "      <td>0</td>\n",
       "      <td>F</td>\n",
       "      <td>сотрудник</td>\n",
       "      <td>0</td>\n",
       "      <td>77069.234271</td>\n",
       "      <td>покупка коммерческой недвижимости</td>\n",
       "    </tr>\n",
       "    <tr>\n",
       "      <th>12</th>\n",
       "      <td>0</td>\n",
       "      <td>NaN</td>\n",
       "      <td>65</td>\n",
       "      <td>среднее</td>\n",
       "      <td>1</td>\n",
       "      <td>гражданский брак</td>\n",
       "      <td>1</td>\n",
       "      <td>M</td>\n",
       "      <td>пенсионер</td>\n",
       "      <td>0</td>\n",
       "      <td>NaN</td>\n",
       "      <td>сыграть свадьбу</td>\n",
       "    </tr>\n",
       "    <tr>\n",
       "      <th>13</th>\n",
       "      <td>0</td>\n",
       "      <td>-1846.641941</td>\n",
       "      <td>54</td>\n",
       "      <td>неоконченное высшее</td>\n",
       "      <td>2</td>\n",
       "      <td>женат / замужем</td>\n",
       "      <td>0</td>\n",
       "      <td>F</td>\n",
       "      <td>сотрудник</td>\n",
       "      <td>0</td>\n",
       "      <td>130458.228857</td>\n",
       "      <td>приобретение автомобиля</td>\n",
       "    </tr>\n",
       "    <tr>\n",
       "      <th>14</th>\n",
       "      <td>0</td>\n",
       "      <td>-1844.956182</td>\n",
       "      <td>56</td>\n",
       "      <td>высшее</td>\n",
       "      <td>0</td>\n",
       "      <td>гражданский брак</td>\n",
       "      <td>1</td>\n",
       "      <td>F</td>\n",
       "      <td>компаньон</td>\n",
       "      <td>1</td>\n",
       "      <td>165127.911772</td>\n",
       "      <td>покупка жилой недвижимости</td>\n",
       "    </tr>\n",
       "    <tr>\n",
       "      <th>15</th>\n",
       "      <td>1</td>\n",
       "      <td>-972.364419</td>\n",
       "      <td>26</td>\n",
       "      <td>среднее</td>\n",
       "      <td>1</td>\n",
       "      <td>женат / замужем</td>\n",
       "      <td>0</td>\n",
       "      <td>F</td>\n",
       "      <td>сотрудник</td>\n",
       "      <td>0</td>\n",
       "      <td>116820.904450</td>\n",
       "      <td>строительство собственной недвижимости</td>\n",
       "    </tr>\n",
       "    <tr>\n",
       "      <th>16</th>\n",
       "      <td>0</td>\n",
       "      <td>-1719.934226</td>\n",
       "      <td>35</td>\n",
       "      <td>среднее</td>\n",
       "      <td>1</td>\n",
       "      <td>женат / замужем</td>\n",
       "      <td>0</td>\n",
       "      <td>F</td>\n",
       "      <td>сотрудник</td>\n",
       "      <td>0</td>\n",
       "      <td>289202.704229</td>\n",
       "      <td>недвижимость</td>\n",
       "    </tr>\n",
       "    <tr>\n",
       "      <th>17</th>\n",
       "      <td>0</td>\n",
       "      <td>-2369.999720</td>\n",
       "      <td>33</td>\n",
       "      <td>высшее</td>\n",
       "      <td>0</td>\n",
       "      <td>гражданский брак</td>\n",
       "      <td>1</td>\n",
       "      <td>M</td>\n",
       "      <td>сотрудник</td>\n",
       "      <td>0</td>\n",
       "      <td>90410.586745</td>\n",
       "      <td>строительство недвижимости</td>\n",
       "    </tr>\n",
       "    <tr>\n",
       "      <th>18</th>\n",
       "      <td>0</td>\n",
       "      <td>400281.136913</td>\n",
       "      <td>53</td>\n",
       "      <td>среднее</td>\n",
       "      <td>1</td>\n",
       "      <td>вдовец / вдова</td>\n",
       "      <td>2</td>\n",
       "      <td>F</td>\n",
       "      <td>пенсионер</td>\n",
       "      <td>0</td>\n",
       "      <td>56823.777243</td>\n",
       "      <td>на покупку подержанного автомобиля</td>\n",
       "    </tr>\n",
       "    <tr>\n",
       "      <th>19</th>\n",
       "      <td>0</td>\n",
       "      <td>-10038.818549</td>\n",
       "      <td>48</td>\n",
       "      <td>СРЕДНЕЕ</td>\n",
       "      <td>1</td>\n",
       "      <td>в разводе</td>\n",
       "      <td>3</td>\n",
       "      <td>F</td>\n",
       "      <td>сотрудник</td>\n",
       "      <td>0</td>\n",
       "      <td>242831.107982</td>\n",
       "      <td>на покупку своего автомобиля</td>\n",
       "    </tr>\n",
       "  </tbody>\n",
       "</table>\n",
       "</div>"
      ],
      "text/plain": [
       "    children  days_employed  dob_years            education  education_id  \\\n",
       "0          1   -8437.673028         42               высшее             0   \n",
       "1          1   -4024.803754         36              среднее             1   \n",
       "2          0   -5623.422610         33              Среднее             1   \n",
       "3          3   -4124.747207         32              среднее             1   \n",
       "4          0  340266.072047         53              среднее             1   \n",
       "5          0    -926.185831         27               высшее             0   \n",
       "6          0   -2879.202052         43               высшее             0   \n",
       "7          0    -152.779569         50              СРЕДНЕЕ             1   \n",
       "8          2   -6929.865299         35               ВЫСШЕЕ             0   \n",
       "9          0   -2188.756445         41              среднее             1   \n",
       "10         2   -4171.483647         36               высшее             0   \n",
       "11         0    -792.701887         40              среднее             1   \n",
       "12         0            NaN         65              среднее             1   \n",
       "13         0   -1846.641941         54  неоконченное высшее             2   \n",
       "14         0   -1844.956182         56               высшее             0   \n",
       "15         1    -972.364419         26              среднее             1   \n",
       "16         0   -1719.934226         35              среднее             1   \n",
       "17         0   -2369.999720         33               высшее             0   \n",
       "18         0  400281.136913         53              среднее             1   \n",
       "19         0  -10038.818549         48              СРЕДНЕЕ             1   \n",
       "\n",
       "       family_status  family_status_id gender income_type  debt  \\\n",
       "0    женат / замужем                 0      F   сотрудник     0   \n",
       "1    женат / замужем                 0      F   сотрудник     0   \n",
       "2    женат / замужем                 0      M   сотрудник     0   \n",
       "3    женат / замужем                 0      M   сотрудник     0   \n",
       "4   гражданский брак                 1      F   пенсионер     0   \n",
       "5   гражданский брак                 1      M   компаньон     0   \n",
       "6    женат / замужем                 0      F   компаньон     0   \n",
       "7    женат / замужем                 0      M   сотрудник     0   \n",
       "8   гражданский брак                 1      F   сотрудник     0   \n",
       "9    женат / замужем                 0      M   сотрудник     0   \n",
       "10   женат / замужем                 0      M   компаньон     0   \n",
       "11   женат / замужем                 0      F   сотрудник     0   \n",
       "12  гражданский брак                 1      M   пенсионер     0   \n",
       "13   женат / замужем                 0      F   сотрудник     0   \n",
       "14  гражданский брак                 1      F   компаньон     1   \n",
       "15   женат / замужем                 0      F   сотрудник     0   \n",
       "16   женат / замужем                 0      F   сотрудник     0   \n",
       "17  гражданский брак                 1      M   сотрудник     0   \n",
       "18    вдовец / вдова                 2      F   пенсионер     0   \n",
       "19         в разводе                 3      F   сотрудник     0   \n",
       "\n",
       "     total_income                                 purpose  \n",
       "0   253875.639453                           покупка жилья  \n",
       "1   112080.014102                 приобретение автомобиля  \n",
       "2   145885.952297                           покупка жилья  \n",
       "3   267628.550329              дополнительное образование  \n",
       "4   158616.077870                         сыграть свадьбу  \n",
       "5   255763.565419                           покупка жилья  \n",
       "6   240525.971920                       операции с жильем  \n",
       "7   135823.934197                             образование  \n",
       "8    95856.832424                   на проведение свадьбы  \n",
       "9   144425.938277                 покупка жилья для семьи  \n",
       "10  113943.491460                    покупка недвижимости  \n",
       "11   77069.234271       покупка коммерческой недвижимости  \n",
       "12            NaN                         сыграть свадьбу  \n",
       "13  130458.228857                 приобретение автомобиля  \n",
       "14  165127.911772              покупка жилой недвижимости  \n",
       "15  116820.904450  строительство собственной недвижимости  \n",
       "16  289202.704229                            недвижимость  \n",
       "17   90410.586745              строительство недвижимости  \n",
       "18   56823.777243      на покупку подержанного автомобиля  \n",
       "19  242831.107982            на покупку своего автомобиля  "
      ]
     },
     "execution_count": 3,
     "metadata": {},
     "output_type": "execute_result"
    }
   ],
   "source": [
    "data.head(20)"
   ]
  },
  {
   "cell_type": "code",
   "execution_count": 4,
   "id": "b06cd3b9",
   "metadata": {
    "id": "2b757bca",
    "outputId": "15376089-8dad-46c9-b520-c05248d43158"
   },
   "outputs": [
    {
     "name": "stdout",
     "output_type": "stream",
     "text": [
      "<class 'pandas.core.frame.DataFrame'>\n",
      "RangeIndex: 21525 entries, 0 to 21524\n",
      "Data columns (total 12 columns):\n",
      " #   Column            Non-Null Count  Dtype  \n",
      "---  ------            --------------  -----  \n",
      " 0   children          21525 non-null  int64  \n",
      " 1   days_employed     19351 non-null  float64\n",
      " 2   dob_years         21525 non-null  int64  \n",
      " 3   education         21525 non-null  object \n",
      " 4   education_id      21525 non-null  int64  \n",
      " 5   family_status     21525 non-null  object \n",
      " 6   family_status_id  21525 non-null  int64  \n",
      " 7   gender            21525 non-null  object \n",
      " 8   income_type       21525 non-null  object \n",
      " 9   debt              21525 non-null  int64  \n",
      " 10  total_income      19351 non-null  float64\n",
      " 11  purpose           21525 non-null  object \n",
      "dtypes: float64(2), int64(5), object(5)\n",
      "memory usage: 2.0+ MB\n"
     ]
    }
   ],
   "source": [
    "data.info()"
   ]
  },
  {
   "cell_type": "markdown",
   "id": "557a44d3",
   "metadata": {
    "id": "333ec665"
   },
   "source": [
    "## Предобработка данных"
   ]
  },
  {
   "cell_type": "markdown",
   "id": "8d431f31",
   "metadata": {
    "id": "02d92d53"
   },
   "source": [
    "### Удаление пропусков"
   ]
  },
  {
   "cell_type": "code",
   "execution_count": 5,
   "id": "0498e67d",
   "metadata": {
    "id": "7f9b2309",
    "outputId": "81f4d817-781c-465c-ed15-91ce4446810d"
   },
   "outputs": [
    {
     "data": {
      "text/plain": [
       "children               0\n",
       "days_employed       2174\n",
       "dob_years              0\n",
       "education              0\n",
       "education_id           0\n",
       "family_status          0\n",
       "family_status_id       0\n",
       "gender                 0\n",
       "income_type            0\n",
       "debt                   0\n",
       "total_income        2174\n",
       "purpose                0\n",
       "dtype: int64"
      ]
     },
     "execution_count": 5,
     "metadata": {},
     "output_type": "execute_result"
    }
   ],
   "source": [
    "data.isna().sum()"
   ]
  },
  {
   "cell_type": "code",
   "execution_count": 6,
   "id": "026cdb51",
   "metadata": {
    "id": "42006a93"
   },
   "outputs": [],
   "source": [
    "for t in data['income_type'].unique():\n",
    "    data.loc[(data['income_type'] == t) & (data['total_income'].isna()), 'total_income'] = \\\n",
    "    data.loc[(data['income_type'] == t), 'total_income'].median()"
   ]
  },
  {
   "cell_type": "markdown",
   "id": "67c7aa66",
   "metadata": {
    "id": "89da5ece"
   },
   "source": [
    "### Обработка аномальных значений"
   ]
  },
  {
   "cell_type": "code",
   "execution_count": 7,
   "id": "1510ad74",
   "metadata": {
    "id": "f6f055bf"
   },
   "outputs": [],
   "source": [
    "data['days_employed'] = data['days_employed'].abs()"
   ]
  },
  {
   "cell_type": "code",
   "execution_count": 8,
   "id": "c3ef9556",
   "metadata": {
    "id": "85a5faf6",
    "outputId": "801ef80e-522b-4668-f34e-565af7432bcf"
   },
   "outputs": [
    {
     "data": {
      "text/plain": [
       "income_type\n",
       "безработный        366413.652744\n",
       "в декрете            3296.759962\n",
       "госслужащий          2689.368353\n",
       "компаньон            1547.382223\n",
       "пенсионер          365213.306266\n",
       "предприниматель       520.848083\n",
       "сотрудник            1574.202821\n",
       "студент               578.751554\n",
       "Name: days_employed, dtype: float64"
      ]
     },
     "execution_count": 8,
     "metadata": {},
     "output_type": "execute_result"
    }
   ],
   "source": [
    "data.groupby('income_type')['days_employed'].agg('median')"
   ]
  },
  {
   "cell_type": "markdown",
   "id": "e9d036af",
   "metadata": {
    "id": "38d1a030"
   },
   "source": [
    "У двух типов (безработные и пенсионеры) получатся аномально большие значения. Исправить такие значения сложно, поэтому оставлю их как есть. Тем более этот столбец не понадобится для исследования."
   ]
  },
  {
   "cell_type": "code",
   "execution_count": 9,
   "id": "c9ec5a61",
   "metadata": {
    "id": "ef5056eb",
    "outputId": "6975b15c-7f95-4697-d16d-a0c79b657b03"
   },
   "outputs": [
    {
     "data": {
      "text/plain": [
       "array([ 1,  0,  3,  2, -1,  4, 20,  5], dtype=int64)"
      ]
     },
     "execution_count": 9,
     "metadata": {},
     "output_type": "execute_result"
    }
   ],
   "source": [
    "data['children'].unique()"
   ]
  },
  {
   "cell_type": "code",
   "execution_count": 10,
   "id": "52b9821e",
   "metadata": {
    "id": "3ff9801d"
   },
   "outputs": [],
   "source": [
    "data = data[(data['children'] != -1) & (data['children'] != 20)]"
   ]
  },
  {
   "cell_type": "code",
   "execution_count": 11,
   "id": "03df6bf3",
   "metadata": {
    "id": "ad4fa8b7",
    "outputId": "b2097101-d49d-44d9-901b-32a65c9463d1"
   },
   "outputs": [
    {
     "data": {
      "text/plain": [
       "array([1, 0, 3, 2, 4, 5], dtype=int64)"
      ]
     },
     "execution_count": 11,
     "metadata": {},
     "output_type": "execute_result"
    }
   ],
   "source": [
    "data['children'].unique()"
   ]
  },
  {
   "cell_type": "markdown",
   "id": "59ab31dc",
   "metadata": {
    "id": "75440b63"
   },
   "source": [
    "### Удаление пропусков (продолжение)"
   ]
  },
  {
   "cell_type": "code",
   "execution_count": 12,
   "id": "d4613e2f",
   "metadata": {
    "id": "af6b1a7e"
   },
   "outputs": [],
   "source": [
    "for t in data['income_type'].unique():\n",
    "    data.loc[(data['income_type'] == t) & (data['days_employed'].isna()), 'days_employed'] = \\\n",
    "    data.loc[(data['income_type'] == t), 'days_employed'].median()"
   ]
  },
  {
   "cell_type": "code",
   "execution_count": 13,
   "id": "e91d8849",
   "metadata": {
    "id": "55f78bc2",
    "outputId": "8da1e4e1-358e-4e87-98c9-f261bce0a7b2"
   },
   "outputs": [
    {
     "data": {
      "text/plain": [
       "children            0\n",
       "days_employed       0\n",
       "dob_years           0\n",
       "education           0\n",
       "education_id        0\n",
       "family_status       0\n",
       "family_status_id    0\n",
       "gender              0\n",
       "income_type         0\n",
       "debt                0\n",
       "total_income        0\n",
       "purpose             0\n",
       "dtype: int64"
      ]
     },
     "execution_count": 13,
     "metadata": {},
     "output_type": "execute_result"
    }
   ],
   "source": [
    "data.isna().sum()"
   ]
  },
  {
   "cell_type": "markdown",
   "id": "698d3668",
   "metadata": {
    "id": "ddc81e43"
   },
   "source": [
    "### Изменение типов данных"
   ]
  },
  {
   "cell_type": "code",
   "execution_count": 14,
   "id": "c10a0fd5",
   "metadata": {
    "id": "920b65ad"
   },
   "outputs": [],
   "source": [
    "data['total_income'] = data['total_income'].astype(int)"
   ]
  },
  {
   "cell_type": "markdown",
   "id": "7d88fd53",
   "metadata": {
    "id": "80c420ba"
   },
   "source": [
    "### Обработка дубликатов"
   ]
  },
  {
   "cell_type": "code",
   "execution_count": 15,
   "id": "1a4a10ef",
   "metadata": {},
   "outputs": [],
   "source": [
    "data['education'] = data['education'].str.lower()"
   ]
  },
  {
   "cell_type": "code",
   "execution_count": 16,
   "id": "1cf2407e",
   "metadata": {
    "id": "3ee445e4",
    "outputId": "9684deba-1934-42d1-99e1-cda61740f822"
   },
   "outputs": [
    {
     "data": {
      "text/plain": [
       "71"
      ]
     },
     "execution_count": 16,
     "metadata": {},
     "output_type": "execute_result"
    }
   ],
   "source": [
    "data.duplicated().sum()"
   ]
  },
  {
   "cell_type": "code",
   "execution_count": 17,
   "id": "a26e71f4",
   "metadata": {
    "id": "8575fe05"
   },
   "outputs": [],
   "source": [
    "data = data.drop_duplicates()"
   ]
  },
  {
   "cell_type": "markdown",
   "id": "2b726971",
   "metadata": {
    "id": "9904cf55"
   },
   "source": [
    "### Категоризация данных"
   ]
  },
  {
   "cell_type": "code",
   "execution_count": 18,
   "id": "4f9bd078",
   "metadata": {
    "id": "e1771346"
   },
   "outputs": [
    {
     "data": {
      "text/html": [
       "<div>\n",
       "<style scoped>\n",
       "    .dataframe tbody tr th:only-of-type {\n",
       "        vertical-align: middle;\n",
       "    }\n",
       "\n",
       "    .dataframe tbody tr th {\n",
       "        vertical-align: top;\n",
       "    }\n",
       "\n",
       "    .dataframe thead th {\n",
       "        text-align: right;\n",
       "    }\n",
       "</style>\n",
       "<table border=\"1\" class=\"dataframe\">\n",
       "  <thead>\n",
       "    <tr style=\"text-align: right;\">\n",
       "      <th></th>\n",
       "      <th>children</th>\n",
       "      <th>days_employed</th>\n",
       "      <th>dob_years</th>\n",
       "      <th>education</th>\n",
       "      <th>education_id</th>\n",
       "      <th>family_status</th>\n",
       "      <th>family_status_id</th>\n",
       "      <th>gender</th>\n",
       "      <th>income_type</th>\n",
       "      <th>debt</th>\n",
       "      <th>total_income</th>\n",
       "      <th>purpose</th>\n",
       "      <th>total_income_category</th>\n",
       "    </tr>\n",
       "  </thead>\n",
       "  <tbody>\n",
       "    <tr>\n",
       "      <th>0</th>\n",
       "      <td>1</td>\n",
       "      <td>8437.673028</td>\n",
       "      <td>42</td>\n",
       "      <td>высшее</td>\n",
       "      <td>0</td>\n",
       "      <td>женат / замужем</td>\n",
       "      <td>0</td>\n",
       "      <td>F</td>\n",
       "      <td>сотрудник</td>\n",
       "      <td>0</td>\n",
       "      <td>253875</td>\n",
       "      <td>покупка жилья</td>\n",
       "      <td>A</td>\n",
       "    </tr>\n",
       "    <tr>\n",
       "      <th>1</th>\n",
       "      <td>1</td>\n",
       "      <td>4024.803754</td>\n",
       "      <td>36</td>\n",
       "      <td>среднее</td>\n",
       "      <td>1</td>\n",
       "      <td>женат / замужем</td>\n",
       "      <td>0</td>\n",
       "      <td>F</td>\n",
       "      <td>сотрудник</td>\n",
       "      <td>0</td>\n",
       "      <td>112080</td>\n",
       "      <td>приобретение автомобиля</td>\n",
       "      <td>D</td>\n",
       "    </tr>\n",
       "    <tr>\n",
       "      <th>2</th>\n",
       "      <td>0</td>\n",
       "      <td>5623.422610</td>\n",
       "      <td>33</td>\n",
       "      <td>среднее</td>\n",
       "      <td>1</td>\n",
       "      <td>женат / замужем</td>\n",
       "      <td>0</td>\n",
       "      <td>M</td>\n",
       "      <td>сотрудник</td>\n",
       "      <td>0</td>\n",
       "      <td>145885</td>\n",
       "      <td>покупка жилья</td>\n",
       "      <td>C</td>\n",
       "    </tr>\n",
       "    <tr>\n",
       "      <th>3</th>\n",
       "      <td>3</td>\n",
       "      <td>4124.747207</td>\n",
       "      <td>32</td>\n",
       "      <td>среднее</td>\n",
       "      <td>1</td>\n",
       "      <td>женат / замужем</td>\n",
       "      <td>0</td>\n",
       "      <td>M</td>\n",
       "      <td>сотрудник</td>\n",
       "      <td>0</td>\n",
       "      <td>267628</td>\n",
       "      <td>дополнительное образование</td>\n",
       "      <td>A</td>\n",
       "    </tr>\n",
       "    <tr>\n",
       "      <th>4</th>\n",
       "      <td>0</td>\n",
       "      <td>340266.072047</td>\n",
       "      <td>53</td>\n",
       "      <td>среднее</td>\n",
       "      <td>1</td>\n",
       "      <td>гражданский брак</td>\n",
       "      <td>1</td>\n",
       "      <td>F</td>\n",
       "      <td>пенсионер</td>\n",
       "      <td>0</td>\n",
       "      <td>158616</td>\n",
       "      <td>сыграть свадьбу</td>\n",
       "      <td>C</td>\n",
       "    </tr>\n",
       "    <tr>\n",
       "      <th>...</th>\n",
       "      <td>...</td>\n",
       "      <td>...</td>\n",
       "      <td>...</td>\n",
       "      <td>...</td>\n",
       "      <td>...</td>\n",
       "      <td>...</td>\n",
       "      <td>...</td>\n",
       "      <td>...</td>\n",
       "      <td>...</td>\n",
       "      <td>...</td>\n",
       "      <td>...</td>\n",
       "      <td>...</td>\n",
       "      <td>...</td>\n",
       "    </tr>\n",
       "    <tr>\n",
       "      <th>21520</th>\n",
       "      <td>1</td>\n",
       "      <td>4529.316663</td>\n",
       "      <td>43</td>\n",
       "      <td>среднее</td>\n",
       "      <td>1</td>\n",
       "      <td>гражданский брак</td>\n",
       "      <td>1</td>\n",
       "      <td>F</td>\n",
       "      <td>компаньон</td>\n",
       "      <td>0</td>\n",
       "      <td>224791</td>\n",
       "      <td>операции с жильем</td>\n",
       "      <td>A</td>\n",
       "    </tr>\n",
       "    <tr>\n",
       "      <th>21521</th>\n",
       "      <td>0</td>\n",
       "      <td>343937.404131</td>\n",
       "      <td>67</td>\n",
       "      <td>среднее</td>\n",
       "      <td>1</td>\n",
       "      <td>женат / замужем</td>\n",
       "      <td>0</td>\n",
       "      <td>F</td>\n",
       "      <td>пенсионер</td>\n",
       "      <td>0</td>\n",
       "      <td>155999</td>\n",
       "      <td>сделка с автомобилем</td>\n",
       "      <td>C</td>\n",
       "    </tr>\n",
       "    <tr>\n",
       "      <th>21522</th>\n",
       "      <td>1</td>\n",
       "      <td>2113.346888</td>\n",
       "      <td>38</td>\n",
       "      <td>среднее</td>\n",
       "      <td>1</td>\n",
       "      <td>гражданский брак</td>\n",
       "      <td>1</td>\n",
       "      <td>M</td>\n",
       "      <td>сотрудник</td>\n",
       "      <td>1</td>\n",
       "      <td>89672</td>\n",
       "      <td>недвижимость</td>\n",
       "      <td>E</td>\n",
       "    </tr>\n",
       "    <tr>\n",
       "      <th>21523</th>\n",
       "      <td>3</td>\n",
       "      <td>3112.481705</td>\n",
       "      <td>38</td>\n",
       "      <td>среднее</td>\n",
       "      <td>1</td>\n",
       "      <td>женат / замужем</td>\n",
       "      <td>0</td>\n",
       "      <td>M</td>\n",
       "      <td>сотрудник</td>\n",
       "      <td>1</td>\n",
       "      <td>244093</td>\n",
       "      <td>на покупку своего автомобиля</td>\n",
       "      <td>A</td>\n",
       "    </tr>\n",
       "    <tr>\n",
       "      <th>21524</th>\n",
       "      <td>2</td>\n",
       "      <td>1984.507589</td>\n",
       "      <td>40</td>\n",
       "      <td>среднее</td>\n",
       "      <td>1</td>\n",
       "      <td>женат / замужем</td>\n",
       "      <td>0</td>\n",
       "      <td>F</td>\n",
       "      <td>сотрудник</td>\n",
       "      <td>0</td>\n",
       "      <td>82047</td>\n",
       "      <td>на покупку автомобиля</td>\n",
       "      <td>E</td>\n",
       "    </tr>\n",
       "  </tbody>\n",
       "</table>\n",
       "<p>21331 rows × 13 columns</p>\n",
       "</div>"
      ],
      "text/plain": [
       "       children  days_employed  dob_years education  education_id  \\\n",
       "0             1    8437.673028         42    высшее             0   \n",
       "1             1    4024.803754         36   среднее             1   \n",
       "2             0    5623.422610         33   среднее             1   \n",
       "3             3    4124.747207         32   среднее             1   \n",
       "4             0  340266.072047         53   среднее             1   \n",
       "...         ...            ...        ...       ...           ...   \n",
       "21520         1    4529.316663         43   среднее             1   \n",
       "21521         0  343937.404131         67   среднее             1   \n",
       "21522         1    2113.346888         38   среднее             1   \n",
       "21523         3    3112.481705         38   среднее             1   \n",
       "21524         2    1984.507589         40   среднее             1   \n",
       "\n",
       "          family_status  family_status_id gender income_type  debt  \\\n",
       "0       женат / замужем                 0      F   сотрудник     0   \n",
       "1       женат / замужем                 0      F   сотрудник     0   \n",
       "2       женат / замужем                 0      M   сотрудник     0   \n",
       "3       женат / замужем                 0      M   сотрудник     0   \n",
       "4      гражданский брак                 1      F   пенсионер     0   \n",
       "...                 ...               ...    ...         ...   ...   \n",
       "21520  гражданский брак                 1      F   компаньон     0   \n",
       "21521   женат / замужем                 0      F   пенсионер     0   \n",
       "21522  гражданский брак                 1      M   сотрудник     1   \n",
       "21523   женат / замужем                 0      M   сотрудник     1   \n",
       "21524   женат / замужем                 0      F   сотрудник     0   \n",
       "\n",
       "       total_income                       purpose total_income_category  \n",
       "0            253875                 покупка жилья                     A  \n",
       "1            112080       приобретение автомобиля                     D  \n",
       "2            145885                 покупка жилья                     C  \n",
       "3            267628    дополнительное образование                     A  \n",
       "4            158616               сыграть свадьбу                     C  \n",
       "...             ...                           ...                   ...  \n",
       "21520        224791             операции с жильем                     A  \n",
       "21521        155999          сделка с автомобилем                     C  \n",
       "21522         89672                  недвижимость                     E  \n",
       "21523        244093  на покупку своего автомобиля                     A  \n",
       "21524         82047         на покупку автомобиля                     E  \n",
       "\n",
       "[21331 rows x 13 columns]"
      ]
     },
     "execution_count": 18,
     "metadata": {},
     "output_type": "execute_result"
    }
   ],
   "source": [
    "# Я использовал метод qcut(), чтобы категории по уровню дохода были примерно одинаковыми по количеству человек в них\n",
    "# и создал новую колонку в data, где присвоил людям категории 'E', 'D', 'C', 'B', 'A'\n",
    "bin_labels = ['E', 'D', 'C', 'B', 'A']\n",
    "data['total_income_category'] = pd.qcut(data['total_income'], 5, labels=bin_labels) \n",
    "data"
   ]
  },
  {
   "cell_type": "code",
   "execution_count": 19,
   "id": "44d60a6e",
   "metadata": {
    "id": "f67ce9b3",
    "outputId": "673c12d9-7d7e-4ae0-9812-c622c89dd244"
   },
   "outputs": [
    {
     "data": {
      "text/plain": [
       "array(['покупка жилья', 'приобретение автомобиля',\n",
       "       'дополнительное образование', 'сыграть свадьбу',\n",
       "       'операции с жильем', 'образование', 'на проведение свадьбы',\n",
       "       'покупка жилья для семьи', 'покупка недвижимости',\n",
       "       'покупка коммерческой недвижимости', 'покупка жилой недвижимости',\n",
       "       'строительство собственной недвижимости', 'недвижимость',\n",
       "       'строительство недвижимости', 'на покупку подержанного автомобиля',\n",
       "       'на покупку своего автомобиля',\n",
       "       'операции с коммерческой недвижимостью',\n",
       "       'строительство жилой недвижимости', 'жилье',\n",
       "       'операции со своей недвижимостью', 'автомобили',\n",
       "       'заняться образованием', 'сделка с подержанным автомобилем',\n",
       "       'получение образования', 'автомобиль', 'свадьба',\n",
       "       'получение дополнительного образования', 'покупка своего жилья',\n",
       "       'операции с недвижимостью', 'получение высшего образования',\n",
       "       'свой автомобиль', 'сделка с автомобилем',\n",
       "       'профильное образование', 'высшее образование',\n",
       "       'покупка жилья для сдачи', 'на покупку автомобиля', 'ремонт жилью',\n",
       "       'заняться высшим образованием'], dtype=object)"
      ]
     },
     "execution_count": 19,
     "metadata": {},
     "output_type": "execute_result"
    }
   ],
   "source": [
    "data['purpose'].unique()"
   ]
  },
  {
   "cell_type": "code",
   "execution_count": 20,
   "id": "166e92cf",
   "metadata": {
    "id": "e149fab4"
   },
   "outputs": [],
   "source": [
    "def categorize_purpose(row): # создаю категории для целей кредита\n",
    "    try:\n",
    "        if 'автом' in row:\n",
    "            return 'операции с автомобилем'\n",
    "        elif 'жил' in row or 'недвиж' in row:\n",
    "            return 'операции с недвижимостью'\n",
    "        elif 'свад' in row:\n",
    "            return 'проведение свадьбы'\n",
    "        elif 'образов' in row:\n",
    "            return 'получение образования'\n",
    "    except:\n",
    "        return 'нет категории'"
   ]
  },
  {
   "cell_type": "code",
   "execution_count": 21,
   "id": "f4280194",
   "metadata": {
    "id": "bf36e69b"
   },
   "outputs": [],
   "source": [
    "data['purpose_category'] = data['purpose'].apply(categorize_purpose)"
   ]
  },
  {
   "cell_type": "markdown",
   "id": "36ff8937",
   "metadata": {
    "id": "09b242bf"
   },
   "source": [
    "## Исследование данных и ответы на вопросы"
   ]
  },
  {
   "cell_type": "markdown",
   "id": "e43d955e",
   "metadata": {
    "id": "c5d66278"
   },
   "source": [
    "### Есть ли зависимость между количеством детей и возвратом кредита в срок?"
   ]
  },
  {
   "cell_type": "code",
   "execution_count": 22,
   "id": "ad6f4d26",
   "metadata": {
    "id": "2cacfc4a"
   },
   "outputs": [
    {
     "data": {
      "text/html": [
       "<div>\n",
       "<style scoped>\n",
       "    .dataframe tbody tr th:only-of-type {\n",
       "        vertical-align: middle;\n",
       "    }\n",
       "\n",
       "    .dataframe tbody tr th {\n",
       "        vertical-align: top;\n",
       "    }\n",
       "\n",
       "    .dataframe thead th {\n",
       "        text-align: right;\n",
       "    }\n",
       "</style>\n",
       "<table border=\"1\" class=\"dataframe\">\n",
       "  <thead>\n",
       "    <tr style=\"text-align: right;\">\n",
       "      <th>debt</th>\n",
       "      <th>0</th>\n",
       "      <th>1</th>\n",
       "      <th>отношение</th>\n",
       "    </tr>\n",
       "    <tr>\n",
       "      <th>children</th>\n",
       "      <th></th>\n",
       "      <th></th>\n",
       "      <th></th>\n",
       "    </tr>\n",
       "  </thead>\n",
       "  <tbody>\n",
       "    <tr>\n",
       "      <th>0</th>\n",
       "      <td>13028.0</td>\n",
       "      <td>1063.0</td>\n",
       "      <td>0.081593</td>\n",
       "    </tr>\n",
       "    <tr>\n",
       "      <th>1</th>\n",
       "      <td>4364.0</td>\n",
       "      <td>444.0</td>\n",
       "      <td>0.101742</td>\n",
       "    </tr>\n",
       "    <tr>\n",
       "      <th>2</th>\n",
       "      <td>1858.0</td>\n",
       "      <td>194.0</td>\n",
       "      <td>0.104413</td>\n",
       "    </tr>\n",
       "    <tr>\n",
       "      <th>3</th>\n",
       "      <td>303.0</td>\n",
       "      <td>27.0</td>\n",
       "      <td>0.089109</td>\n",
       "    </tr>\n",
       "    <tr>\n",
       "      <th>4</th>\n",
       "      <td>37.0</td>\n",
       "      <td>4.0</td>\n",
       "      <td>0.108108</td>\n",
       "    </tr>\n",
       "    <tr>\n",
       "      <th>5</th>\n",
       "      <td>9.0</td>\n",
       "      <td>0.0</td>\n",
       "      <td>0.000000</td>\n",
       "    </tr>\n",
       "  </tbody>\n",
       "</table>\n",
       "</div>"
      ],
      "text/plain": [
       "debt            0       1  отношение\n",
       "children                            \n",
       "0         13028.0  1063.0   0.081593\n",
       "1          4364.0   444.0   0.101742\n",
       "2          1858.0   194.0   0.104413\n",
       "3           303.0    27.0   0.089109\n",
       "4            37.0     4.0   0.108108\n",
       "5             9.0     0.0   0.000000"
      ]
     },
     "execution_count": 22,
     "metadata": {},
     "output_type": "execute_result"
    }
   ],
   "source": [
    "data_pivot_children = data.pivot_table( \n",
    "    index=['children'], columns='debt', values='education', aggfunc='count'\n",
    ")\n",
    "data_pivot_children = data_pivot_children.fillna(0)\n",
    "data_pivot_children['отношение'] = data_pivot_children[1] / data_pivot_children[0] \n",
    "#Столбец \"отношение\" показывает отношение случаев просрочки платежа по кредиту к случаям когда просрочки не было\n",
    "data_pivot_children"
   ]
  },
  {
   "cell_type": "markdown",
   "id": "ac302e4a",
   "metadata": {
    "id": "3a6b99ec"
   },
   "source": [
    "**Вывод:** Исходя из данных столбца \"отношение\" можно сделать вывод, что люди у которых нет детей, чаще других погашают кредит в срок, реже всех погашают кредит в срок люди с 2 детьми. Выборку с 3, 4 и 5 детьми мы не учитываем т. к. данных значений слишком мало.  "
   ]
  },
  {
   "cell_type": "markdown",
   "id": "c9038b42",
   "metadata": {
    "id": "97be82ca"
   },
   "source": [
    "### Есть ли зависимость между семейным положением и возвратом кредита в срок?"
   ]
  },
  {
   "cell_type": "code",
   "execution_count": 23,
   "id": "8ec5f8e3",
   "metadata": {
    "id": "dc3f7ee8"
   },
   "outputs": [
    {
     "data": {
      "text/html": [
       "<div>\n",
       "<style scoped>\n",
       "    .dataframe tbody tr th:only-of-type {\n",
       "        vertical-align: middle;\n",
       "    }\n",
       "\n",
       "    .dataframe tbody tr th {\n",
       "        vertical-align: top;\n",
       "    }\n",
       "\n",
       "    .dataframe thead th {\n",
       "        text-align: right;\n",
       "    }\n",
       "</style>\n",
       "<table border=\"1\" class=\"dataframe\">\n",
       "  <thead>\n",
       "    <tr style=\"text-align: right;\">\n",
       "      <th>debt</th>\n",
       "      <th>0</th>\n",
       "      <th>1</th>\n",
       "      <th>отношение</th>\n",
       "    </tr>\n",
       "    <tr>\n",
       "      <th>family_status</th>\n",
       "      <th></th>\n",
       "      <th></th>\n",
       "      <th></th>\n",
       "    </tr>\n",
       "  </thead>\n",
       "  <tbody>\n",
       "    <tr>\n",
       "      <th>Не женат / не замужем</th>\n",
       "      <td>2523</td>\n",
       "      <td>273</td>\n",
       "      <td>0.108205</td>\n",
       "    </tr>\n",
       "    <tr>\n",
       "      <th>в разводе</th>\n",
       "      <td>1105</td>\n",
       "      <td>84</td>\n",
       "      <td>0.076018</td>\n",
       "    </tr>\n",
       "    <tr>\n",
       "      <th>вдовец / вдова</th>\n",
       "      <td>888</td>\n",
       "      <td>63</td>\n",
       "      <td>0.070946</td>\n",
       "    </tr>\n",
       "    <tr>\n",
       "      <th>гражданский брак</th>\n",
       "      <td>3749</td>\n",
       "      <td>385</td>\n",
       "      <td>0.102694</td>\n",
       "    </tr>\n",
       "    <tr>\n",
       "      <th>женат / замужем</th>\n",
       "      <td>11334</td>\n",
       "      <td>927</td>\n",
       "      <td>0.081789</td>\n",
       "    </tr>\n",
       "  </tbody>\n",
       "</table>\n",
       "</div>"
      ],
      "text/plain": [
       "debt                       0    1  отношение\n",
       "family_status                               \n",
       "Не женат / не замужем   2523  273   0.108205\n",
       "в разводе               1105   84   0.076018\n",
       "вдовец / вдова           888   63   0.070946\n",
       "гражданский брак        3749  385   0.102694\n",
       "женат / замужем        11334  927   0.081789"
      ]
     },
     "execution_count": 23,
     "metadata": {},
     "output_type": "execute_result"
    }
   ],
   "source": [
    "data_pivot_family = data.pivot_table( \n",
    "    index=['family_status'], columns='debt', values='education', aggfunc='count'\n",
    ")\n",
    "data_pivot_family['отношение'] = data_pivot_family[1] / data_pivot_family[0]\n",
    "#Столбец \"отношение\" показывает отношение случаев просрочки платежа по кредиту к случаям когда просрочки не было\n",
    "data_pivot_family"
   ]
  },
  {
   "cell_type": "markdown",
   "id": "c6f4018f",
   "metadata": {
    "id": "1cef7837"
   },
   "source": [
    "**Вывод:** Исходя из данных столбца \"отношение\" можно сделать вывод, что вдовы/вдовцы, чаще других погашают кредит в срок, но так как данных значений меньше 5% то они могут быть нерепрезентативны, и в таком случае, чаще других погашают кредит в срок люди находящиеся в разводе, а реже всех те кто не женат/не замужем. "
   ]
  },
  {
   "cell_type": "markdown",
   "id": "8d56e52c",
   "metadata": {
    "id": "1e8b2fca"
   },
   "source": [
    "### Есть ли зависимость между уровнем дохода и возвратом кредита в срок?"
   ]
  },
  {
   "cell_type": "code",
   "execution_count": 24,
   "id": "0be94e9b",
   "metadata": {
    "id": "cd7e3720"
   },
   "outputs": [
    {
     "data": {
      "text/html": [
       "<div>\n",
       "<style scoped>\n",
       "    .dataframe tbody tr th:only-of-type {\n",
       "        vertical-align: middle;\n",
       "    }\n",
       "\n",
       "    .dataframe tbody tr th {\n",
       "        vertical-align: top;\n",
       "    }\n",
       "\n",
       "    .dataframe thead th {\n",
       "        text-align: right;\n",
       "    }\n",
       "</style>\n",
       "<table border=\"1\" class=\"dataframe\">\n",
       "  <thead>\n",
       "    <tr style=\"text-align: right;\">\n",
       "      <th>debt</th>\n",
       "      <th>0</th>\n",
       "      <th>1</th>\n",
       "      <th>отношение</th>\n",
       "    </tr>\n",
       "    <tr>\n",
       "      <th>total_income_category</th>\n",
       "      <th></th>\n",
       "      <th></th>\n",
       "      <th></th>\n",
       "    </tr>\n",
       "  </thead>\n",
       "  <tbody>\n",
       "    <tr>\n",
       "      <th>E</th>\n",
       "      <td>3923</td>\n",
       "      <td>344</td>\n",
       "      <td>0.087688</td>\n",
       "    </tr>\n",
       "    <tr>\n",
       "      <th>D</th>\n",
       "      <td>3908</td>\n",
       "      <td>358</td>\n",
       "      <td>0.091607</td>\n",
       "    </tr>\n",
       "    <tr>\n",
       "      <th>C</th>\n",
       "      <td>3893</td>\n",
       "      <td>373</td>\n",
       "      <td>0.095813</td>\n",
       "    </tr>\n",
       "    <tr>\n",
       "      <th>B</th>\n",
       "      <td>3908</td>\n",
       "      <td>358</td>\n",
       "      <td>0.091607</td>\n",
       "    </tr>\n",
       "    <tr>\n",
       "      <th>A</th>\n",
       "      <td>3967</td>\n",
       "      <td>299</td>\n",
       "      <td>0.075372</td>\n",
       "    </tr>\n",
       "  </tbody>\n",
       "</table>\n",
       "</div>"
      ],
      "text/plain": [
       "debt                      0    1  отношение\n",
       "total_income_category                      \n",
       "E                      3923  344   0.087688\n",
       "D                      3908  358   0.091607\n",
       "C                      3893  373   0.095813\n",
       "B                      3908  358   0.091607\n",
       "A                      3967  299   0.075372"
      ]
     },
     "execution_count": 24,
     "metadata": {},
     "output_type": "execute_result"
    }
   ],
   "source": [
    "data_pivot_income_qcut = data.pivot_table( \n",
    "    index=['total_income_category'], columns='debt', values='education', aggfunc='count'\n",
    ")\n",
    "data_pivot_income_qcut['отношение'] = data_pivot_income_qcut[1] / data_pivot_income_qcut[0]\n",
    "#Столбец \"отношение\" показывает отношение случаев просрочки платежа по кредиту к случаям когда просрочки не было\n",
    "data_pivot_income_qcut"
   ]
  },
  {
   "cell_type": "markdown",
   "id": "8ae28d31",
   "metadata": {
    "id": "e8593def"
   },
   "source": [
    "**Вывод:** Исходя из данных столбца \"отношение\" можно сделать вывод, что люди, которым присвоена категория 'A', то есть те у кого доход 214604-2265604, намного чаще погашают кредит в срок, дальше в порядке убывания идут категории 'E', 'D', 'B', 'C'."
   ]
  },
  {
   "cell_type": "markdown",
   "id": "9244113d",
   "metadata": {
    "id": "99ecbd1f"
   },
   "source": [
    "### Как разные цели кредита влияют на его возврат в срок?"
   ]
  },
  {
   "cell_type": "code",
   "execution_count": 25,
   "id": "25931344",
   "metadata": {
    "id": "2b687290"
   },
   "outputs": [
    {
     "data": {
      "text/html": [
       "<div>\n",
       "<style scoped>\n",
       "    .dataframe tbody tr th:only-of-type {\n",
       "        vertical-align: middle;\n",
       "    }\n",
       "\n",
       "    .dataframe tbody tr th {\n",
       "        vertical-align: top;\n",
       "    }\n",
       "\n",
       "    .dataframe thead th {\n",
       "        text-align: right;\n",
       "    }\n",
       "</style>\n",
       "<table border=\"1\" class=\"dataframe\">\n",
       "  <thead>\n",
       "    <tr style=\"text-align: right;\">\n",
       "      <th>debt</th>\n",
       "      <th>0</th>\n",
       "      <th>1</th>\n",
       "      <th>отношение</th>\n",
       "    </tr>\n",
       "    <tr>\n",
       "      <th>purpose_category</th>\n",
       "      <th></th>\n",
       "      <th></th>\n",
       "      <th></th>\n",
       "    </tr>\n",
       "  </thead>\n",
       "  <tbody>\n",
       "    <tr>\n",
       "      <th>операции с автомобилем</th>\n",
       "      <td>3879</td>\n",
       "      <td>400</td>\n",
       "      <td>0.103119</td>\n",
       "    </tr>\n",
       "    <tr>\n",
       "      <th>операции с недвижимостью</th>\n",
       "      <td>9971</td>\n",
       "      <td>780</td>\n",
       "      <td>0.078227</td>\n",
       "    </tr>\n",
       "    <tr>\n",
       "      <th>получение образования</th>\n",
       "      <td>3619</td>\n",
       "      <td>369</td>\n",
       "      <td>0.101962</td>\n",
       "    </tr>\n",
       "    <tr>\n",
       "      <th>проведение свадьбы</th>\n",
       "      <td>2130</td>\n",
       "      <td>183</td>\n",
       "      <td>0.085915</td>\n",
       "    </tr>\n",
       "  </tbody>\n",
       "</table>\n",
       "</div>"
      ],
      "text/plain": [
       "debt                         0    1  отношение\n",
       "purpose_category                              \n",
       "операции с автомобилем    3879  400   0.103119\n",
       "операции с недвижимостью  9971  780   0.078227\n",
       "получение образования     3619  369   0.101962\n",
       "проведение свадьбы        2130  183   0.085915"
      ]
     },
     "execution_count": 25,
     "metadata": {},
     "output_type": "execute_result"
    }
   ],
   "source": [
    "data_pivot_purpose = data.pivot_table( \n",
    "    index=['purpose_category'], columns='debt', values='education', aggfunc='count'\n",
    ")\n",
    "data_pivot_purpose['отношение'] = data_pivot_purpose[1] / data_pivot_purpose[0]\n",
    "#Столбец \"отношение\" показывает отношение случаев просрочки платежа по кредиту к случаям когда просрочки не было\n",
    "data_pivot_purpose"
   ]
  },
  {
   "cell_type": "markdown",
   "id": "159b2ec3",
   "metadata": {
    "id": "b4bb2ce6"
   },
   "source": [
    "**Вывод:** Исходя из данных столбца \"отношение\" можно сделать вывод, что люди, которые берут кредит на операции с недвижимостью, погашают его в срок чаще остальных, а реже всех погашают кредит в срок, те кто берёт его на операции с автомобилем. "
   ]
  },
  {
   "cell_type": "markdown",
   "id": "47c99fd4",
   "metadata": {
    "id": "6db5255a"
   },
   "source": [
    "## Общий вывод"
   ]
  },
  {
   "cell_type": "markdown",
   "id": "1625da89",
   "metadata": {
    "id": "bad65432"
   },
   "source": [
    "Общий вывод: количество детей, семейное положение, уровень дохода и цель кредита влияют на погашение кредита в срок. А именно наиболее способными потенциальными заёмщиками для погашения кредита в срок являются те:\n",
    "- у кого нет детей\n",
    "- вдовы/вдовцы, люди находящиеся в разводе\n",
    "- те у кого доход 214604-2265604 (категория 'A')\n",
    "- и те кто берёт кредит на операции с недвижимостью.\n",
    "\n",
    "Наименее же способными потенциальными заёмщиками для погашения кредита в срок являются те:\n",
    "- у кого 2 ребёнка\n",
    "- кто не женат/не замужем\n",
    "- те у кого доход 132113-161380 (категория 'C')\n",
    "- и те кто берёт кредит на операции с автомобилем."
   ]
  },
  {
   "cell_type": "code",
   "execution_count": null,
   "id": "9ea8fea4",
   "metadata": {},
   "outputs": [],
   "source": []
  }
 ],
 "metadata": {
  "ExecuteTimeLog": [
   {
    "duration": 62,
    "start_time": "2023-01-25T19:41:10.247Z"
   },
   {
    "duration": 515,
    "start_time": "2023-01-25T19:41:28.339Z"
   },
   {
    "duration": 24,
    "start_time": "2023-01-25T19:41:28.857Z"
   },
   {
    "duration": 52,
    "start_time": "2023-01-25T19:41:28.882Z"
   },
   {
    "duration": 29,
    "start_time": "2023-01-25T19:41:28.936Z"
   },
   {
    "duration": 68,
    "start_time": "2023-01-25T19:41:28.967Z"
   },
   {
    "duration": 4,
    "start_time": "2023-01-25T19:41:29.037Z"
   },
   {
    "duration": 47,
    "start_time": "2023-01-25T19:41:29.043Z"
   },
   {
    "duration": 51,
    "start_time": "2023-01-25T19:41:29.091Z"
   },
   {
    "duration": 38,
    "start_time": "2023-01-25T19:41:29.144Z"
   },
   {
    "duration": 44,
    "start_time": "2023-01-25T19:41:29.186Z"
   },
   {
    "duration": 67,
    "start_time": "2023-01-25T19:41:29.232Z"
   },
   {
    "duration": 50,
    "start_time": "2023-01-25T19:41:29.301Z"
   },
   {
    "duration": 22,
    "start_time": "2023-01-25T19:41:29.353Z"
   },
   {
    "duration": 53,
    "start_time": "2023-01-25T19:41:29.377Z"
   },
   {
    "duration": 66,
    "start_time": "2023-01-25T19:41:29.432Z"
   },
   {
    "duration": 40,
    "start_time": "2023-01-25T19:41:29.499Z"
   },
   {
    "duration": 27,
    "start_time": "2023-01-25T19:41:29.540Z"
   },
   {
    "duration": 50,
    "start_time": "2023-01-25T19:41:29.569Z"
   },
   {
    "duration": 76,
    "start_time": "2023-01-25T19:41:29.622Z"
   },
   {
    "duration": 34,
    "start_time": "2023-01-25T19:41:29.700Z"
   },
   {
    "duration": 73,
    "start_time": "2023-01-25T19:41:29.736Z"
   },
   {
    "duration": 102,
    "start_time": "2023-01-25T19:41:29.812Z"
   },
   {
    "duration": 40,
    "start_time": "2023-01-25T19:41:29.916Z"
   },
   {
    "duration": 51,
    "start_time": "2023-01-25T19:41:29.958Z"
   },
   {
    "duration": 123,
    "start_time": "2023-01-25T19:41:30.011Z"
   },
   {
    "duration": 9,
    "start_time": "2023-01-25T19:42:29.834Z"
   },
   {
    "duration": 76,
    "start_time": "2023-01-25T19:47:22.858Z"
   },
   {
    "duration": 17,
    "start_time": "2023-01-25T19:47:22.937Z"
   },
   {
    "duration": 29,
    "start_time": "2023-01-25T19:47:22.956Z"
   },
   {
    "duration": 13,
    "start_time": "2023-01-25T19:47:22.987Z"
   },
   {
    "duration": 45,
    "start_time": "2023-01-25T19:47:23.002Z"
   },
   {
    "duration": 3,
    "start_time": "2023-01-25T19:47:23.049Z"
   },
   {
    "duration": 30,
    "start_time": "2023-01-25T19:47:23.054Z"
   },
   {
    "duration": 5,
    "start_time": "2023-01-25T19:47:23.086Z"
   },
   {
    "duration": 10,
    "start_time": "2023-01-25T19:47:23.092Z"
   },
   {
    "duration": 4,
    "start_time": "2023-01-25T19:47:23.105Z"
   },
   {
    "duration": 37,
    "start_time": "2023-01-25T19:47:23.111Z"
   },
   {
    "duration": 34,
    "start_time": "2023-01-25T19:47:23.150Z"
   },
   {
    "duration": 4,
    "start_time": "2023-01-25T19:47:23.186Z"
   },
   {
    "duration": 16,
    "start_time": "2023-01-25T19:47:23.191Z"
   },
   {
    "duration": 30,
    "start_time": "2023-01-25T19:47:23.209Z"
   },
   {
    "duration": 18,
    "start_time": "2023-01-25T19:47:23.240Z"
   },
   {
    "duration": 3,
    "start_time": "2023-01-25T19:47:23.260Z"
   },
   {
    "duration": 11,
    "start_time": "2023-01-25T19:47:23.284Z"
   },
   {
    "duration": 11,
    "start_time": "2023-01-25T19:47:23.297Z"
   },
   {
    "duration": 4,
    "start_time": "2023-01-25T19:47:23.309Z"
   },
   {
    "duration": 23,
    "start_time": "2023-01-25T19:47:23.314Z"
   },
   {
    "duration": 22,
    "start_time": "2023-01-25T19:47:23.339Z"
   },
   {
    "duration": 33,
    "start_time": "2023-01-25T19:47:23.362Z"
   },
   {
    "duration": 18,
    "start_time": "2023-01-25T19:47:23.397Z"
   },
   {
    "duration": 6,
    "start_time": "2023-01-25T19:47:23.417Z"
   },
   {
    "duration": 72,
    "start_time": "2023-01-25T20:07:11.480Z"
   },
   {
    "duration": 15,
    "start_time": "2023-01-25T20:07:11.554Z"
   },
   {
    "duration": 28,
    "start_time": "2023-01-25T20:07:11.572Z"
   },
   {
    "duration": 12,
    "start_time": "2023-01-25T20:07:11.603Z"
   },
   {
    "duration": 43,
    "start_time": "2023-01-25T20:07:11.616Z"
   },
   {
    "duration": 4,
    "start_time": "2023-01-25T20:07:11.661Z"
   },
   {
    "duration": 9,
    "start_time": "2023-01-25T20:07:11.685Z"
   },
   {
    "duration": 8,
    "start_time": "2023-01-25T20:07:11.696Z"
   },
   {
    "duration": 19,
    "start_time": "2023-01-25T20:07:11.706Z"
   },
   {
    "duration": 12,
    "start_time": "2023-01-25T20:07:11.727Z"
   },
   {
    "duration": 46,
    "start_time": "2023-01-25T20:07:11.741Z"
   },
   {
    "duration": 11,
    "start_time": "2023-01-25T20:07:11.789Z"
   },
   {
    "duration": 16,
    "start_time": "2023-01-25T20:07:11.801Z"
   },
   {
    "duration": 18,
    "start_time": "2023-01-25T20:07:11.819Z"
   },
   {
    "duration": 31,
    "start_time": "2023-01-25T20:07:11.839Z"
   },
   {
    "duration": 27,
    "start_time": "2023-01-25T20:07:11.872Z"
   },
   {
    "duration": 4,
    "start_time": "2023-01-25T20:07:11.901Z"
   },
   {
    "duration": 43,
    "start_time": "2023-01-25T20:07:11.907Z"
   },
   {
    "duration": 6,
    "start_time": "2023-01-25T20:07:11.952Z"
   },
   {
    "duration": 7,
    "start_time": "2023-01-25T20:07:11.960Z"
   },
   {
    "duration": 19,
    "start_time": "2023-01-25T20:07:11.969Z"
   },
   {
    "duration": 30,
    "start_time": "2023-01-25T20:07:11.990Z"
   },
   {
    "duration": 7,
    "start_time": "2023-01-25T20:07:12.022Z"
   },
   {
    "duration": 12,
    "start_time": "2023-01-25T20:07:12.035Z"
   },
   {
    "duration": 13,
    "start_time": "2023-01-25T20:07:12.049Z"
   },
   {
    "duration": 44,
    "start_time": "2023-01-25T20:09:28.384Z"
   },
   {
    "duration": 16,
    "start_time": "2023-01-25T20:11:02.952Z"
   },
   {
    "duration": 15,
    "start_time": "2023-01-25T20:11:06.641Z"
   },
   {
    "duration": 20,
    "start_time": "2023-01-25T20:11:21.782Z"
   },
   {
    "duration": 22,
    "start_time": "2023-01-25T20:14:11.281Z"
   },
   {
    "duration": 509,
    "start_time": "2023-01-25T20:49:12.334Z"
   },
   {
    "duration": 522,
    "start_time": "2023-01-25T20:49:32.048Z"
   },
   {
    "duration": 13,
    "start_time": "2023-01-25T20:50:03.323Z"
   },
   {
    "duration": 20,
    "start_time": "2023-01-25T20:59:03.519Z"
   },
   {
    "duration": 52,
    "start_time": "2023-01-25T21:00:39.368Z"
   },
   {
    "duration": 34,
    "start_time": "2023-01-25T21:00:51.967Z"
   },
   {
    "duration": 789,
    "start_time": "2023-01-25T21:14:15.041Z"
   },
   {
    "duration": 539,
    "start_time": "2023-01-25T21:15:33.753Z"
   },
   {
    "duration": 590,
    "start_time": "2023-01-25T21:16:06.065Z"
   },
   {
    "duration": 818,
    "start_time": "2023-01-25T21:16:29.395Z"
   },
   {
    "duration": 22,
    "start_time": "2023-01-25T21:17:08.856Z"
   },
   {
    "duration": 558,
    "start_time": "2023-01-25T21:17:27.406Z"
   },
   {
    "duration": 28,
    "start_time": "2023-01-25T21:17:36.583Z"
   },
   {
    "duration": 23,
    "start_time": "2023-01-25T21:18:34.834Z"
   },
   {
    "duration": 34,
    "start_time": "2023-01-25T21:18:49.983Z"
   },
   {
    "duration": 36,
    "start_time": "2023-01-25T21:20:03.423Z"
   },
   {
    "duration": 26,
    "start_time": "2023-01-25T21:20:33.900Z"
   },
   {
    "duration": 22,
    "start_time": "2023-01-25T21:21:33.004Z"
   },
   {
    "duration": 635,
    "start_time": "2023-01-25T21:22:34.250Z"
   },
   {
    "duration": 26,
    "start_time": "2023-01-25T21:25:18.048Z"
   },
   {
    "duration": 535,
    "start_time": "2023-01-25T21:25:31.226Z"
   },
   {
    "duration": 577,
    "start_time": "2023-01-25T21:25:46.985Z"
   },
   {
    "duration": 515,
    "start_time": "2023-01-25T21:34:35.081Z"
   },
   {
    "duration": 18,
    "start_time": "2023-01-25T21:34:47.700Z"
   },
   {
    "duration": 23,
    "start_time": "2023-01-25T21:34:51.843Z"
   },
   {
    "duration": 34,
    "start_time": "2023-01-25T21:35:08.992Z"
   },
   {
    "duration": 25,
    "start_time": "2023-01-25T21:35:51.498Z"
   },
   {
    "duration": 781,
    "start_time": "2023-01-25T21:52:41.634Z"
   },
   {
    "duration": 899,
    "start_time": "2023-01-25T21:52:56.451Z"
   },
   {
    "duration": 23,
    "start_time": "2023-01-25T21:53:43.007Z"
   },
   {
    "duration": 30,
    "start_time": "2023-01-25T21:54:04.533Z"
   },
   {
    "duration": 23,
    "start_time": "2023-01-25T21:58:30.099Z"
   },
   {
    "duration": 31,
    "start_time": "2023-01-25T22:02:47.176Z"
   },
   {
    "duration": 22,
    "start_time": "2023-01-25T22:12:17.355Z"
   },
   {
    "duration": 782,
    "start_time": "2023-01-26T17:39:00.437Z"
   },
   {
    "duration": 23,
    "start_time": "2023-01-26T17:39:01.222Z"
   },
   {
    "duration": 37,
    "start_time": "2023-01-26T17:39:01.247Z"
   },
   {
    "duration": 44,
    "start_time": "2023-01-26T17:39:01.287Z"
   },
   {
    "duration": 90,
    "start_time": "2023-01-26T17:39:01.333Z"
   },
   {
    "duration": 12,
    "start_time": "2023-01-26T17:39:01.425Z"
   },
   {
    "duration": 26,
    "start_time": "2023-01-26T17:39:01.438Z"
   },
   {
    "duration": 15,
    "start_time": "2023-01-26T17:39:01.466Z"
   },
   {
    "duration": 57,
    "start_time": "2023-01-26T17:39:01.483Z"
   },
   {
    "duration": 91,
    "start_time": "2023-01-26T17:39:01.542Z"
   },
   {
    "duration": 133,
    "start_time": "2023-01-26T17:39:01.634Z"
   },
   {
    "duration": 11,
    "start_time": "2023-01-26T17:39:01.768Z"
   },
   {
    "duration": 76,
    "start_time": "2023-01-26T17:39:01.781Z"
   },
   {
    "duration": 91,
    "start_time": "2023-01-26T17:39:01.859Z"
   },
   {
    "duration": 62,
    "start_time": "2023-01-26T17:39:01.952Z"
   },
   {
    "duration": 22,
    "start_time": "2023-01-26T17:39:02.016Z"
   },
   {
    "duration": 24,
    "start_time": "2023-01-26T17:39:02.040Z"
   },
   {
    "duration": 108,
    "start_time": "2023-01-26T17:39:02.066Z"
   },
   {
    "duration": 84,
    "start_time": "2023-01-26T17:39:02.176Z"
   },
   {
    "duration": 46,
    "start_time": "2023-01-26T17:39:02.262Z"
   },
   {
    "duration": 38,
    "start_time": "2023-01-26T17:39:02.309Z"
   },
   {
    "duration": 39,
    "start_time": "2023-01-26T17:39:02.349Z"
   },
   {
    "duration": 31,
    "start_time": "2023-01-26T17:39:02.389Z"
   },
   {
    "duration": 28,
    "start_time": "2023-01-26T17:39:02.422Z"
   },
   {
    "duration": 21,
    "start_time": "2023-01-26T17:39:02.452Z"
   },
   {
    "duration": 49,
    "start_time": "2023-01-26T19:52:47.976Z"
   },
   {
    "duration": 515,
    "start_time": "2023-01-26T19:52:57.832Z"
   },
   {
    "duration": 23,
    "start_time": "2023-01-26T19:52:58.349Z"
   },
   {
    "duration": 15,
    "start_time": "2023-01-26T19:52:58.374Z"
   },
   {
    "duration": 12,
    "start_time": "2023-01-26T19:52:58.391Z"
   },
   {
    "duration": 30,
    "start_time": "2023-01-26T19:52:58.405Z"
   },
   {
    "duration": 4,
    "start_time": "2023-01-26T19:52:58.437Z"
   },
   {
    "duration": 15,
    "start_time": "2023-01-26T19:52:58.442Z"
   },
   {
    "duration": 4,
    "start_time": "2023-01-26T19:52:58.458Z"
   },
   {
    "duration": 9,
    "start_time": "2023-01-26T19:52:58.463Z"
   },
   {
    "duration": 5,
    "start_time": "2023-01-26T19:52:58.474Z"
   },
   {
    "duration": 29,
    "start_time": "2023-01-26T19:52:58.503Z"
   },
   {
    "duration": 10,
    "start_time": "2023-01-26T19:52:58.533Z"
   },
   {
    "duration": 4,
    "start_time": "2023-01-26T19:52:58.544Z"
   },
   {
    "duration": 15,
    "start_time": "2023-01-26T19:52:58.549Z"
   },
   {
    "duration": 42,
    "start_time": "2023-01-26T19:52:58.565Z"
   },
   {
    "duration": 17,
    "start_time": "2023-01-26T19:52:58.609Z"
   },
   {
    "duration": 4,
    "start_time": "2023-01-26T19:52:58.628Z"
   },
   {
    "duration": 16,
    "start_time": "2023-01-26T19:52:58.633Z"
   },
   {
    "duration": 21,
    "start_time": "2023-01-26T19:52:58.650Z"
   },
   {
    "duration": 7,
    "start_time": "2023-01-26T19:52:58.673Z"
   },
   {
    "duration": 16,
    "start_time": "2023-01-26T19:52:58.682Z"
   },
   {
    "duration": 28,
    "start_time": "2023-01-26T19:52:58.700Z"
   },
   {
    "duration": 19,
    "start_time": "2023-01-26T19:52:58.729Z"
   },
   {
    "duration": 46,
    "start_time": "2023-01-26T19:52:58.750Z"
   },
   {
    "duration": 19,
    "start_time": "2023-01-26T19:52:58.798Z"
   },
   {
    "duration": 28,
    "start_time": "2023-01-26T19:53:24.369Z"
   },
   {
    "duration": 23,
    "start_time": "2023-01-26T19:53:48.459Z"
   },
   {
    "duration": 27,
    "start_time": "2023-01-26T19:59:17.057Z"
   },
   {
    "duration": 35,
    "start_time": "2023-01-26T20:02:34.344Z"
   },
   {
    "duration": 723,
    "start_time": "2023-01-26T20:03:14.239Z"
   },
   {
    "duration": 654,
    "start_time": "2023-01-26T20:03:45.966Z"
   },
   {
    "duration": 661,
    "start_time": "2023-01-26T20:04:07.522Z"
   },
   {
    "duration": 21,
    "start_time": "2023-01-26T20:04:15.808Z"
   },
   {
    "duration": 710,
    "start_time": "2023-01-26T20:04:53.620Z"
   },
   {
    "duration": 19,
    "start_time": "2023-01-26T20:05:06.460Z"
   },
   {
    "duration": 696,
    "start_time": "2023-01-26T20:07:17.202Z"
   },
   {
    "duration": 32,
    "start_time": "2023-01-26T20:07:48.615Z"
   },
   {
    "duration": 25,
    "start_time": "2023-01-26T20:09:47.057Z"
   },
   {
    "duration": 28,
    "start_time": "2023-01-26T20:36:58.097Z"
   },
   {
    "duration": 24,
    "start_time": "2023-01-26T20:37:09.817Z"
   },
   {
    "duration": 29,
    "start_time": "2023-01-26T20:49:55.118Z"
   },
   {
    "duration": 37,
    "start_time": "2023-01-26T20:51:57.913Z"
   },
   {
    "duration": 41,
    "start_time": "2023-01-26T20:54:59.149Z"
   },
   {
    "duration": 27,
    "start_time": "2023-01-26T20:55:10.754Z"
   },
   {
    "duration": 20,
    "start_time": "2023-01-26T21:02:14.965Z"
   },
   {
    "duration": 21,
    "start_time": "2023-01-26T21:03:12.266Z"
   },
   {
    "duration": 21,
    "start_time": "2023-01-26T21:03:54.022Z"
   },
   {
    "duration": 43,
    "start_time": "2023-01-26T21:56:52.025Z"
   },
   {
    "duration": 36,
    "start_time": "2023-01-26T22:28:44.913Z"
   },
   {
    "duration": 28,
    "start_time": "2023-01-26T22:29:21.754Z"
   },
   {
    "duration": 68,
    "start_time": "2023-01-26T22:29:55.660Z"
   },
   {
    "duration": 15,
    "start_time": "2023-01-26T22:29:55.729Z"
   },
   {
    "duration": 31,
    "start_time": "2023-01-26T22:29:55.746Z"
   },
   {
    "duration": 24,
    "start_time": "2023-01-26T22:29:55.779Z"
   },
   {
    "duration": 47,
    "start_time": "2023-01-26T22:29:55.804Z"
   },
   {
    "duration": 4,
    "start_time": "2023-01-26T22:29:55.853Z"
   },
   {
    "duration": 32,
    "start_time": "2023-01-26T22:29:55.858Z"
   },
   {
    "duration": 29,
    "start_time": "2023-01-26T22:29:55.892Z"
   },
   {
    "duration": 16,
    "start_time": "2023-01-26T22:29:55.923Z"
   },
   {
    "duration": 20,
    "start_time": "2023-01-26T22:29:55.942Z"
   },
   {
    "duration": 43,
    "start_time": "2023-01-26T22:29:55.964Z"
   },
   {
    "duration": 14,
    "start_time": "2023-01-26T22:29:56.014Z"
   },
   {
    "duration": 9,
    "start_time": "2023-01-26T22:29:56.030Z"
   },
   {
    "duration": 23,
    "start_time": "2023-01-26T22:29:56.042Z"
   },
   {
    "duration": 30,
    "start_time": "2023-01-26T22:29:56.067Z"
   },
   {
    "duration": 21,
    "start_time": "2023-01-26T22:29:56.105Z"
   },
   {
    "duration": 4,
    "start_time": "2023-01-26T22:29:56.130Z"
   },
   {
    "duration": 18,
    "start_time": "2023-01-26T22:29:56.136Z"
   },
   {
    "duration": 8,
    "start_time": "2023-01-26T22:29:56.156Z"
   },
   {
    "duration": 5,
    "start_time": "2023-01-26T22:29:56.166Z"
   },
   {
    "duration": 10,
    "start_time": "2023-01-26T22:29:56.172Z"
   },
   {
    "duration": 30,
    "start_time": "2023-01-26T22:29:56.203Z"
   },
   {
    "duration": 28,
    "start_time": "2023-01-26T22:29:56.235Z"
   },
   {
    "duration": 52,
    "start_time": "2023-01-26T22:29:56.265Z"
   },
   {
    "duration": 21,
    "start_time": "2023-01-26T22:29:56.319Z"
   },
   {
    "duration": 20,
    "start_time": "2023-01-26T22:29:56.341Z"
   },
   {
    "duration": 28,
    "start_time": "2023-01-26T22:32:04.037Z"
   },
   {
    "duration": 35,
    "start_time": "2023-01-26T22:32:20.729Z"
   },
   {
    "duration": 20,
    "start_time": "2023-01-26T22:33:03.953Z"
   },
   {
    "duration": 24,
    "start_time": "2023-01-26T22:40:05.226Z"
   },
   {
    "duration": 43,
    "start_time": "2023-01-26T22:42:27.481Z"
   },
   {
    "duration": 26,
    "start_time": "2023-01-26T22:42:49.021Z"
   },
   {
    "duration": 28,
    "start_time": "2023-01-26T22:47:29.385Z"
   },
   {
    "duration": 28,
    "start_time": "2023-01-26T23:00:20.573Z"
   },
   {
    "duration": 26,
    "start_time": "2023-01-26T23:00:28.575Z"
   },
   {
    "duration": 30,
    "start_time": "2023-01-26T23:00:40.672Z"
   },
   {
    "duration": 26,
    "start_time": "2023-01-26T23:01:23.755Z"
   },
   {
    "duration": 406,
    "start_time": "2023-01-27T18:44:09.582Z"
   },
   {
    "duration": 23,
    "start_time": "2023-01-27T18:44:09.989Z"
   },
   {
    "duration": 18,
    "start_time": "2023-01-27T18:44:10.014Z"
   },
   {
    "duration": 18,
    "start_time": "2023-01-27T18:44:10.034Z"
   },
   {
    "duration": 71,
    "start_time": "2023-01-27T18:44:10.053Z"
   },
   {
    "duration": 15,
    "start_time": "2023-01-27T18:44:10.125Z"
   },
   {
    "duration": 19,
    "start_time": "2023-01-27T18:44:10.142Z"
   },
   {
    "duration": 11,
    "start_time": "2023-01-27T18:44:10.163Z"
   },
   {
    "duration": 27,
    "start_time": "2023-01-27T18:44:10.175Z"
   },
   {
    "duration": 29,
    "start_time": "2023-01-27T18:44:10.205Z"
   },
   {
    "duration": 67,
    "start_time": "2023-01-27T18:44:10.236Z"
   },
   {
    "duration": 13,
    "start_time": "2023-01-27T18:44:10.304Z"
   },
   {
    "duration": 39,
    "start_time": "2023-01-27T18:44:10.318Z"
   },
   {
    "duration": 37,
    "start_time": "2023-01-27T18:44:10.360Z"
   },
   {
    "duration": 63,
    "start_time": "2023-01-27T18:44:10.400Z"
   },
   {
    "duration": 31,
    "start_time": "2023-01-27T18:44:10.465Z"
   },
   {
    "duration": 18,
    "start_time": "2023-01-27T18:44:10.498Z"
   },
   {
    "duration": 56,
    "start_time": "2023-01-27T18:44:10.518Z"
   },
   {
    "duration": 24,
    "start_time": "2023-01-27T18:44:10.576Z"
   },
   {
    "duration": 26,
    "start_time": "2023-01-27T18:44:10.602Z"
   },
   {
    "duration": 41,
    "start_time": "2023-01-27T18:44:10.629Z"
   },
   {
    "duration": 39,
    "start_time": "2023-01-27T18:44:10.672Z"
   },
   {
    "duration": 35,
    "start_time": "2023-01-27T18:44:10.713Z"
   },
   {
    "duration": 35,
    "start_time": "2023-01-27T18:44:10.751Z"
   },
   {
    "duration": 19,
    "start_time": "2023-01-27T18:44:10.788Z"
   },
   {
    "duration": 38,
    "start_time": "2023-01-27T18:44:10.809Z"
   }
  ],
  "colab": {
   "name": "dpp_template_part2.ipynb",
   "provenance": []
  },
  "kernelspec": {
   "display_name": "Python 3 (ipykernel)",
   "language": "python",
   "name": "python3"
  },
  "language_info": {
   "codemirror_mode": {
    "name": "ipython",
    "version": 3
   },
   "file_extension": ".py",
   "mimetype": "text/x-python",
   "name": "python",
   "nbconvert_exporter": "python",
   "pygments_lexer": "ipython3",
   "version": "3.9.13"
  },
  "toc": {
   "base_numbering": 1,
   "nav_menu": {},
   "number_sections": true,
   "sideBar": true,
   "skip_h1_title": true,
   "title_cell": "Table of Contents",
   "title_sidebar": "Contents",
   "toc_cell": false,
   "toc_position": {
    "height": "calc(100% - 180px)",
    "left": "10px",
    "top": "150px",
    "width": "395.294098px"
   },
   "toc_section_display": true,
   "toc_window_display": false
  }
 },
 "nbformat": 4,
 "nbformat_minor": 5
}
